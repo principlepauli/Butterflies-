{
  "nbformat": 4,
  "nbformat_minor": 0,
  "metadata": {
    "colab": {
      "provenance": []
    },
    "kernelspec": {
      "name": "python3",
      "display_name": "Python 3"
    },
    "language_info": {
      "name": "python"
    }
  },
  "cells": [
    {
      "cell_type": "code",
      "source": [
        "!pip install alpaca-py"
      ],
      "metadata": {
        "colab": {
          "base_uri": "https://localhost:8080/"
        },
        "id": "GxbHhUqCaOV5",
        "outputId": "876ef137-0d53-4bbe-b133-e6c5a235520b"
      },
      "execution_count": 9,
      "outputs": [
        {
          "output_type": "stream",
          "name": "stdout",
          "text": [
            "Requirement already satisfied: alpaca-py in /usr/local/lib/python3.11/dist-packages (0.40.1)\n",
            "Requirement already satisfied: msgpack<2.0.0,>=1.0.3 in /usr/local/lib/python3.11/dist-packages (from alpaca-py) (1.1.0)\n",
            "Requirement already satisfied: pandas>=1.5.3 in /usr/local/lib/python3.11/dist-packages (from alpaca-py) (2.2.2)\n",
            "Requirement already satisfied: pydantic<3.0.0,>=2.0.3 in /usr/local/lib/python3.11/dist-packages (from alpaca-py) (2.11.4)\n",
            "Requirement already satisfied: requests<3.0.0,>=2.30.0 in /usr/local/lib/python3.11/dist-packages (from alpaca-py) (2.32.3)\n",
            "Requirement already satisfied: sseclient-py<2.0.0,>=1.7.2 in /usr/local/lib/python3.11/dist-packages (from alpaca-py) (1.8.0)\n",
            "Requirement already satisfied: websockets>=10.4 in /usr/local/lib/python3.11/dist-packages (from alpaca-py) (15.0.1)\n",
            "Requirement already satisfied: numpy>=1.23.2 in /usr/local/lib/python3.11/dist-packages (from pandas>=1.5.3->alpaca-py) (2.0.2)\n",
            "Requirement already satisfied: python-dateutil>=2.8.2 in /usr/local/lib/python3.11/dist-packages (from pandas>=1.5.3->alpaca-py) (2.9.0.post0)\n",
            "Requirement already satisfied: pytz>=2020.1 in /usr/local/lib/python3.11/dist-packages (from pandas>=1.5.3->alpaca-py) (2025.2)\n",
            "Requirement already satisfied: tzdata>=2022.7 in /usr/local/lib/python3.11/dist-packages (from pandas>=1.5.3->alpaca-py) (2025.2)\n",
            "Requirement already satisfied: annotated-types>=0.6.0 in /usr/local/lib/python3.11/dist-packages (from pydantic<3.0.0,>=2.0.3->alpaca-py) (0.7.0)\n",
            "Requirement already satisfied: pydantic-core==2.33.2 in /usr/local/lib/python3.11/dist-packages (from pydantic<3.0.0,>=2.0.3->alpaca-py) (2.33.2)\n",
            "Requirement already satisfied: typing-extensions>=4.12.2 in /usr/local/lib/python3.11/dist-packages (from pydantic<3.0.0,>=2.0.3->alpaca-py) (4.13.2)\n",
            "Requirement already satisfied: typing-inspection>=0.4.0 in /usr/local/lib/python3.11/dist-packages (from pydantic<3.0.0,>=2.0.3->alpaca-py) (0.4.0)\n",
            "Requirement already satisfied: charset-normalizer<4,>=2 in /usr/local/lib/python3.11/dist-packages (from requests<3.0.0,>=2.30.0->alpaca-py) (3.4.2)\n",
            "Requirement already satisfied: idna<4,>=2.5 in /usr/local/lib/python3.11/dist-packages (from requests<3.0.0,>=2.30.0->alpaca-py) (3.10)\n",
            "Requirement already satisfied: urllib3<3,>=1.21.1 in /usr/local/lib/python3.11/dist-packages (from requests<3.0.0,>=2.30.0->alpaca-py) (2.4.0)\n",
            "Requirement already satisfied: certifi>=2017.4.17 in /usr/local/lib/python3.11/dist-packages (from requests<3.0.0,>=2.30.0->alpaca-py) (2025.4.26)\n",
            "Requirement already satisfied: six>=1.5 in /usr/local/lib/python3.11/dist-packages (from python-dateutil>=2.8.2->pandas>=1.5.3->alpaca-py) (1.17.0)\n"
          ]
        }
      ]
    },
    {
      "cell_type": "code",
      "source": [
        "from alpaca.data.historical import OptionHistoricalDataClient\n",
        "from alpaca.data.requests import OptionBarsRequest\n",
        "from alpaca.data.timeframe import TimeFrame\n",
        "from datetime import datetime\n",
        "import pandas as pd\n",
        "\n",
        "# Alpaca API credentials\n",
        "api_key = \"PK57L7BGUUMQZ7V25H5A\"\n",
        "secret_key = \"uH5DCyc1WEwEIrQIRWVwKKdGAKjecHTJWfd9Z4mj\""
      ],
      "metadata": {
        "id": "Bm41jM4TaNWt"
      },
      "execution_count": 10,
      "outputs": []
    },
    {
      "cell_type": "code",
      "execution_count": 16,
      "metadata": {
        "colab": {
          "base_uri": "https://localhost:8080/"
        },
        "id": "bZqs6pXaUhgR",
        "outputId": "258c16f6-ddbb-45c4-d5f2-96608926057c"
      },
      "outputs": [
        {
          "output_type": "stream",
          "name": "stdout",
          "text": [
            "Datei gespeichert als 'spy_option_eod.csv'\n",
            "               symbol                 timestamp   open   high    low  close  \\\n",
            "0  SPY250117C00450000 2024-01-19 05:00:00+00:00  58.94  61.58  58.91  61.49   \n",
            "1  SPY250117C00450000 2024-01-22 05:00:00+00:00  62.64  63.09  62.64  63.09   \n",
            "2  SPY250117C00450000 2024-01-24 05:00:00+00:00  66.16  66.16  64.50  64.50   \n",
            "3  SPY250117C00450000 2024-01-25 05:00:00+00:00  64.35  65.21  64.35  65.21   \n",
            "4  SPY250117C00450000 2024-01-26 05:00:00+00:00  66.57  66.57  66.57  66.57   \n",
            "\n",
            "   volume  trade_count       vwap  \n",
            "0    16.0          8.0  59.799375  \n",
            "1     2.0          2.0  62.865000  \n",
            "2     2.0          2.0  65.330000  \n",
            "3     2.0          2.0  64.780000  \n",
            "4     2.0          2.0  66.570000  \n"
          ]
        }
      ],
      "source": [
        "client = OptionHistoricalDataClient(api_key, secret_key)\n",
        "\n",
        "# Define your time range\n",
        "start_date = datetime(2024, 1, 1)\n",
        "end_date = datetime(2025, 5, 1)\n",
        "\n",
        "# Full OCC option symbol for SPY call: Jan 17, 2025 $450 call\n",
        "option_symbol = 'SPY250117C00450000'\n",
        "\n",
        "request = OptionBarsRequest(\n",
        "    symbol_or_symbols=option_symbol,\n",
        "    timeframe=TimeFrame.Day,\n",
        "    start=start_date,\n",
        "    end=end_date\n",
        ")\n",
        "\n",
        "bars = client.get_option_bars(request)\n",
        "df = bars.df.reset_index()\n",
        "\n",
        "df.to_csv(\"spy_option_eod.csv\", index=False)\n",
        "print(\"Datei gespeichert als 'spy_option_eod.csv'\")\n",
        "\n",
        "print(df.head())"
      ]
    },
    {
      "cell_type": "code",
      "source": [
        "from google.colab import files\n",
        "files.download('spy_option_eod.csv')"
      ],
      "metadata": {
        "colab": {
          "base_uri": "https://localhost:8080/",
          "height": 37
        },
        "id": "ungMsiaNa24N",
        "outputId": "69ee001f-c0bb-45de-cd51-f6deba57159f"
      },
      "execution_count": 17,
      "outputs": [
        {
          "output_type": "display_data",
          "data": {
            "text/plain": [
              "<IPython.core.display.Javascript object>"
            ],
            "application/javascript": [
              "\n",
              "    async function download(id, filename, size) {\n",
              "      if (!google.colab.kernel.accessAllowed) {\n",
              "        return;\n",
              "      }\n",
              "      const div = document.createElement('div');\n",
              "      const label = document.createElement('label');\n",
              "      label.textContent = `Downloading \"${filename}\": `;\n",
              "      div.appendChild(label);\n",
              "      const progress = document.createElement('progress');\n",
              "      progress.max = size;\n",
              "      div.appendChild(progress);\n",
              "      document.body.appendChild(div);\n",
              "\n",
              "      const buffers = [];\n",
              "      let downloaded = 0;\n",
              "\n",
              "      const channel = await google.colab.kernel.comms.open(id);\n",
              "      // Send a message to notify the kernel that we're ready.\n",
              "      channel.send({})\n",
              "\n",
              "      for await (const message of channel.messages) {\n",
              "        // Send a message to notify the kernel that we're ready.\n",
              "        channel.send({})\n",
              "        if (message.buffers) {\n",
              "          for (const buffer of message.buffers) {\n",
              "            buffers.push(buffer);\n",
              "            downloaded += buffer.byteLength;\n",
              "            progress.value = downloaded;\n",
              "          }\n",
              "        }\n",
              "      }\n",
              "      const blob = new Blob(buffers, {type: 'application/binary'});\n",
              "      const a = document.createElement('a');\n",
              "      a.href = window.URL.createObjectURL(blob);\n",
              "      a.download = filename;\n",
              "      div.appendChild(a);\n",
              "      a.click();\n",
              "      div.remove();\n",
              "    }\n",
              "  "
            ]
          },
          "metadata": {}
        },
        {
          "output_type": "display_data",
          "data": {
            "text/plain": [
              "<IPython.core.display.Javascript object>"
            ],
            "application/javascript": [
              "download(\"download_97836351-3ac3-4868-87f4-a8471e42f695\", \"spy_option_eod.csv\", 19524)"
            ]
          },
          "metadata": {}
        }
      ]
    }
  ]
}