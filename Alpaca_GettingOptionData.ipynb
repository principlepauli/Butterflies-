{
  "nbformat": 4,
  "nbformat_minor": 0,
  "metadata": {
    "colab": {
      "provenance": []
    },
    "kernelspec": {
      "name": "python3",
      "display_name": "Python 3"
    },
    "language_info": {
      "name": "python"
    }
  },
  "cells": [
    {
      "cell_type": "code",
      "execution_count": null,
      "metadata": {
        "id": "HFqgDvYnpB3V"
      },
      "outputs": [],
      "source": [
        "!pip install alpaca-py"
      ]
    },
    {
      "cell_type": "code",
      "source": [
        "import pandas as pd\n",
        "#Alpaca\n",
        "import alpaca\n",
        "from alpaca.trading.client import *\n",
        "from alpaca.data.historical.stock import *\n",
        "from alpaca.data.historical.crypto import *\n",
        "from alpaca.data.historical.option import *\n",
        "from alpaca.trading.requests import *\n",
        "from alpaca.data.timeframe import *\n",
        "\n",
        "import time\n",
        "from datetime import datetime, timedelta, date\n",
        "from zoneinfo import ZoneInfo"
      ],
      "metadata": {
        "id": "PmVGjF0qpTcE"
      },
      "execution_count": null,
      "outputs": []
    },
    {
      "cell_type": "code",
      "source": [
        "# Alpaca API credentials\n",
        "api_key = \"xxx\" # Use our Account credentials\n",
        "secret_key = \"xxx\"\n",
        "base_url = 'https://paper-api.alpaca.markets'  # Use the appropriate URL for your account type\n",
        "\n",
        "base_url ='https://paper-api.alpaca.markets'  # Use the appropriate URL for your account type\n",
        "\n",
        "ohd_client = OptionHistoricalDataClient(api_key, secret_key, url_override = None)\n",
        "\n",
        "symbol = \"xxx\" # Format: [UNDERLYING][EXPIRY][TYPE][STRIKE], e.g., SPY Jun 21 2024 $450 call = \"SPY240621C00450000\""
      ],
      "metadata": {
        "id": "nna9ldQJpYiT"
      },
      "execution_count": null,
      "outputs": []
    },
    {
      "cell_type": "code",
      "source": [
        "# get historical bars by symbol\n",
        "req = StockBarsRequest(\n",
        "    symbol_or_symbols = [symbol],\n",
        "    timeframe= TimeFrame(amount = 1, unit = TimeFrameUnit.Day), # specify timeframe\n",
        "    start = '2024-01-01',                                         # specify start datetime, default=the beginning of the current day.\n",
        "    #limit = 1000                                               # specify limit\n",
        ")"
      ],
      "metadata": {
        "id": "038jto80p9zh"
      },
      "execution_count": null,
      "outputs": []
    },
    {
      "cell_type": "code",
      "source": [
        "# Get and Display Data\n",
        "option_data = ohd_client.get_option_bars(req).df\n",
        "option_data"
      ],
      "metadata": {
        "id": "0WYllyokp9Gx"
      },
      "execution_count": null,
      "outputs": []
    }
  ]
}